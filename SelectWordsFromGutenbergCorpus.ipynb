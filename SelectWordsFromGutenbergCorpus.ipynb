{
 "cells": [
  {
   "cell_type": "code",
   "execution_count": 1,
   "metadata": {},
   "outputs": [],
   "source": [
    "import gzip, json\n",
    "import re\n",
    "from collections import Counter\n",
    "import nltk"
   ]
  },
  {
   "cell_type": "code",
   "execution_count": 2,
   "metadata": {},
   "outputs": [],
   "source": [
    "all_lines = []\n",
    "for line in gzip.open(\"gutenberg-poetry-v001.ndjson.gz\"):\n",
    "    all_lines.append(json.loads(line.strip()))"
   ]
  },
  {
   "cell_type": "code",
   "execution_count": 4,
   "metadata": {},
   "outputs": [],
   "source": [
    "stop_words = set(nltk.corpus.stopwords.words('english')) | set(\n",
    "    [\n",
    "        \"thy\", \"thou\", \"yet\", \"thee\", \"thus\", \"like\", \"shall\", \"upon\", \"would\", \"let\", \n",
    "        \"us\", \"me\", \"come\", \"could\",\"though\", \"must\", \"may\", \".\", \"'tis\", \"go\", \"hath\", \n",
    "        \"ye\", \"came\", \"/\", \"o'\", \"--\", \"i'll\", \"i'm\", \"'twas\", \"there's\", \"th'\", \"'til\",\n",
    "        \"o'er\", \"till\", \"thine\", \"mine\", \"unto\", \"doth\", \"since\", \"an'\",\n",
    "    ]\n",
    ")\n",
    "stop_keep = [\n",
    "    \"o'er\", \"we\", \"are\", \"our\", \"more\", \"see\", \"still\", \"come\", \"while\", \"here\", \n",
    "    \"each\", \"o\", \"up\", \"has\", \"down\", \"each\", \"came\", \"too\", \"well\", \"make\", \n",
    "    \"never\", \"thus\", \"once\", \"before\", \"other\", \"ever\"\n",
    "]\n",
    "select_stop = stop_words.copy()\n",
    "for word in stop_keep:\n",
    "    select_stop.discard(word)\n",
    "select_stop = select_stop | set([\"every\", 'first'])"
   ]
  },
  {
   "cell_type": "code",
   "execution_count": 6,
   "metadata": {},
   "outputs": [],
   "source": [
    "line_text = [line[\"s\"].lower().replace(\",\", \"\").replace('\"', \"\") for line in all_lines]\n",
    "split_line = \" \".join(line_text).split()\n",
    "select_words = [line for line in split_line if line not in select_stop]"
   ]
  },
  {
   "cell_type": "code",
   "execution_count": 8,
   "metadata": {},
   "outputs": [],
   "source": [
    "select_counts = Counter(select_words).most_common(55)"
   ]
  }
 ],
 "metadata": {
  "kernelspec": {
   "display_name": "Python natlang",
   "language": "python",
   "name": "natlang"
  },
  "language_info": {
   "codemirror_mode": {
    "name": "ipython",
    "version": 3
   },
   "file_extension": ".py",
   "mimetype": "text/x-python",
   "name": "python",
   "nbconvert_exporter": "python",
   "pygments_lexer": "ipython3",
   "version": "3.8.5"
  }
 },
 "nbformat": 4,
 "nbformat_minor": 2
}
